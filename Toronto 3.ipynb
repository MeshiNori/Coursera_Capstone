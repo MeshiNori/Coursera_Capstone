{
 "cells": [
  {
   "cell_type": "markdown",
   "metadata": {},
   "source": [
    "Importing libraries"
   ]
  },
  {
   "cell_type": "code",
   "execution_count": 2,
   "metadata": {
    "scrolled": true
   },
   "outputs": [
    {
     "name": "stdout",
     "output_type": "stream",
     "text": [
      "Libraries imported.\n"
     ]
    }
   ],
   "source": [
    "import numpy as np # library to handle data in a vectorized manner\n",
    "\n",
    "import pandas as pd # library for data analsysis\n",
    "pd.set_option('display.max_columns', None)\n",
    "pd.set_option('display.max_rows', None)\n",
    "\n",
    "import json # library to handle JSON files\n",
    "\n",
    "print('Libraries imported.')"
   ]
  },
  {
   "cell_type": "code",
   "execution_count": 3,
   "metadata": {},
   "outputs": [
    {
     "name": "stdout",
     "output_type": "stream",
     "text": [
      "Requirement already satisfied: beautifulsoup4 in /srv/conda/envs/notebook/lib/python3.6/site-packages (4.9.3)\n",
      "Requirement already satisfied: as in /srv/conda/envs/notebook/lib/python3.6/site-packages (0.1)\n",
      "Requirement already satisfied: bs4 in /srv/conda/envs/notebook/lib/python3.6/site-packages (0.0.1)\n",
      "Requirement already satisfied: soupsieve>1.2; python_version >= \"3.0\" in /srv/conda/envs/notebook/lib/python3.6/site-packages (from beautifulsoup4) (2.0.1)\n",
      "Note: you may need to restart the kernel to use updated packages.\n"
     ]
    }
   ],
   "source": [
    "pip install beautifulsoup4 as bs4"
   ]
  },
  {
   "cell_type": "code",
   "execution_count": 4,
   "metadata": {},
   "outputs": [
    {
     "name": "stdout",
     "output_type": "stream",
     "text": [
      "Requirement already satisfied: html5lib in /srv/conda/envs/notebook/lib/python3.6/site-packages (1.1)\n",
      "Requirement already satisfied: webencodings in /srv/conda/envs/notebook/lib/python3.6/site-packages (from html5lib) (0.5.1)\n",
      "Requirement already satisfied: six>=1.9 in /srv/conda/envs/notebook/lib/python3.6/site-packages (from html5lib) (1.15.0)\n",
      "Note: you may need to restart the kernel to use updated packages.\n"
     ]
    }
   ],
   "source": [
    "pip install html5lib"
   ]
  },
  {
   "cell_type": "code",
   "execution_count": 5,
   "metadata": {},
   "outputs": [],
   "source": [
    "from bs4 import BeautifulSoup"
   ]
  },
  {
   "cell_type": "code",
   "execution_count": 6,
   "metadata": {},
   "outputs": [
    {
     "name": "stdout",
     "output_type": "stream",
     "text": [
      "Requirement already satisfied: lxml in /srv/conda/envs/notebook/lib/python3.6/site-packages (4.6.1)\n",
      "Note: you may need to restart the kernel to use updated packages.\n"
     ]
    }
   ],
   "source": [
    "pip install lxml"
   ]
  },
  {
   "cell_type": "code",
   "execution_count": 7,
   "metadata": {},
   "outputs": [],
   "source": [
    "import requests"
   ]
  },
  {
   "cell_type": "markdown",
   "metadata": {},
   "source": [
    "Reading the data from the url provided"
   ]
  },
  {
   "cell_type": "code",
   "execution_count": 8,
   "metadata": {},
   "outputs": [],
   "source": [
    "### Reading the data from Toronto Wiki\n",
    "url='https://en.wikipedia.org/wiki/List_of_postal_codes_of_Canada:_M'\n",
    "response = requests.get(url)"
   ]
  },
  {
   "cell_type": "code",
   "execution_count": 9,
   "metadata": {},
   "outputs": [],
   "source": [
    "### Convert the html data\n",
    "data = response.text\n",
    "soup = BeautifulSoup(data,'html.parser')\n",
    "wiki_table=soup.find('table')"
   ]
  },
  {
   "cell_type": "code",
   "execution_count": 10,
   "metadata": {},
   "outputs": [
    {
     "data": {
      "text/html": [
       "<div>\n",
       "<style scoped>\n",
       "    .dataframe tbody tr th:only-of-type {\n",
       "        vertical-align: middle;\n",
       "    }\n",
       "\n",
       "    .dataframe tbody tr th {\n",
       "        vertical-align: top;\n",
       "    }\n",
       "\n",
       "    .dataframe thead th {\n",
       "        text-align: right;\n",
       "    }\n",
       "</style>\n",
       "<table border=\"1\" class=\"dataframe\">\n",
       "  <thead>\n",
       "    <tr style=\"text-align: right;\">\n",
       "      <th></th>\n",
       "      <th>Postalcode</th>\n",
       "      <th>Borough</th>\n",
       "      <th>Neighborhood</th>\n",
       "    </tr>\n",
       "  </thead>\n",
       "  <tbody>\n",
       "  </tbody>\n",
       "</table>\n",
       "</div>"
      ],
      "text/plain": [
       "Empty DataFrame\n",
       "Columns: [Postalcode, Borough, Neighborhood]\n",
       "Index: []"
      ]
     },
     "execution_count": 10,
     "metadata": {},
     "output_type": "execute_result"
    }
   ],
   "source": [
    "### Dataframe using pandas\n",
    "column_names = ['Postalcode','Borough','Neighborhood']\n",
    "df = pd.DataFrame(columns = column_names)\n",
    "df.head()"
   ]
  },
  {
   "cell_type": "code",
   "execution_count": 11,
   "metadata": {},
   "outputs": [],
   "source": [
    "for tr_cell in wiki_table.find_all('tr'):\n",
    "    row_data=[]\n",
    "    for td_cell in tr_cell.find_all('td'):\n",
    "        row_data.append(td_cell.text.strip())\n",
    "    if len(row_data)==3:\n",
    "        df.loc[len(df)] = row_data"
   ]
  },
  {
   "cell_type": "code",
   "execution_count": 12,
   "metadata": {},
   "outputs": [
    {
     "data": {
      "text/html": [
       "<div>\n",
       "<style scoped>\n",
       "    .dataframe tbody tr th:only-of-type {\n",
       "        vertical-align: middle;\n",
       "    }\n",
       "\n",
       "    .dataframe tbody tr th {\n",
       "        vertical-align: top;\n",
       "    }\n",
       "\n",
       "    .dataframe thead th {\n",
       "        text-align: right;\n",
       "    }\n",
       "</style>\n",
       "<table border=\"1\" class=\"dataframe\">\n",
       "  <thead>\n",
       "    <tr style=\"text-align: right;\">\n",
       "      <th></th>\n",
       "      <th>Postalcode</th>\n",
       "      <th>Borough</th>\n",
       "      <th>Neighborhood</th>\n",
       "    </tr>\n",
       "  </thead>\n",
       "  <tbody>\n",
       "    <tr>\n",
       "      <th>0</th>\n",
       "      <td>M1A</td>\n",
       "      <td>Not assigned</td>\n",
       "      <td>Not assigned</td>\n",
       "    </tr>\n",
       "    <tr>\n",
       "      <th>1</th>\n",
       "      <td>M2A</td>\n",
       "      <td>Not assigned</td>\n",
       "      <td>Not assigned</td>\n",
       "    </tr>\n",
       "    <tr>\n",
       "      <th>2</th>\n",
       "      <td>M3A</td>\n",
       "      <td>North York</td>\n",
       "      <td>Parkwoods</td>\n",
       "    </tr>\n",
       "    <tr>\n",
       "      <th>3</th>\n",
       "      <td>M4A</td>\n",
       "      <td>North York</td>\n",
       "      <td>Victoria Village</td>\n",
       "    </tr>\n",
       "    <tr>\n",
       "      <th>4</th>\n",
       "      <td>M5A</td>\n",
       "      <td>Downtown Toronto</td>\n",
       "      <td>Regent Park, Harbourfront</td>\n",
       "    </tr>\n",
       "  </tbody>\n",
       "</table>\n",
       "</div>"
      ],
      "text/plain": [
       "  Postalcode           Borough               Neighborhood\n",
       "0        M1A      Not assigned               Not assigned\n",
       "1        M2A      Not assigned               Not assigned\n",
       "2        M3A        North York                  Parkwoods\n",
       "3        M4A        North York           Victoria Village\n",
       "4        M5A  Downtown Toronto  Regent Park, Harbourfront"
      ]
     },
     "execution_count": 12,
     "metadata": {},
     "output_type": "execute_result"
    }
   ],
   "source": [
    "df.head()"
   ]
  },
  {
   "cell_type": "code",
   "execution_count": 35,
   "metadata": {},
   "outputs": [],
   "source": [
    "#The dataframe will consist of three columns: PostalCode, Borough, and Neighborhood\n",
    "#Only process the cells that have an assigned borough. Ignore cells with a borough that is Not assigned.\n",
    "#More than one neighborhood can exist in one postal code area. For example, in the table on the Wikipedia page, you will notice that M5A is listed twice and has two neighborhoods: Harbourfront and Regent Park. These two rows will be combined into one row with the neighborhoods separated with a comma as shown in row 11 in the above table.\n",
    "#If a cell has a borough but a Not assigned neighborhood, then the neighborhood will be the same as the borough.\n",
    "#Clean your Notebook and add Markdown cells to explain your work and any assumptions you are making.\n",
    "#In the last cell of your notebook, use the .shape method to print the number of rows of your dataframe."
   ]
  },
  {
   "cell_type": "markdown",
   "metadata": {},
   "source": [
    "Removing rows with borough \"Not assigned\""
   ]
  },
  {
   "cell_type": "code",
   "execution_count": 13,
   "metadata": {},
   "outputs": [
    {
     "data": {
      "text/html": [
       "<div>\n",
       "<style scoped>\n",
       "    .dataframe tbody tr th:only-of-type {\n",
       "        vertical-align: middle;\n",
       "    }\n",
       "\n",
       "    .dataframe tbody tr th {\n",
       "        vertical-align: top;\n",
       "    }\n",
       "\n",
       "    .dataframe thead th {\n",
       "        text-align: right;\n",
       "    }\n",
       "</style>\n",
       "<table border=\"1\" class=\"dataframe\">\n",
       "  <thead>\n",
       "    <tr style=\"text-align: right;\">\n",
       "      <th></th>\n",
       "      <th>index</th>\n",
       "      <th>Postalcode</th>\n",
       "      <th>Borough</th>\n",
       "      <th>Neighborhood</th>\n",
       "    </tr>\n",
       "  </thead>\n",
       "  <tbody>\n",
       "    <tr>\n",
       "      <th>0</th>\n",
       "      <td>2</td>\n",
       "      <td>M3A</td>\n",
       "      <td>North York</td>\n",
       "      <td>Parkwoods</td>\n",
       "    </tr>\n",
       "    <tr>\n",
       "      <th>1</th>\n",
       "      <td>3</td>\n",
       "      <td>M4A</td>\n",
       "      <td>North York</td>\n",
       "      <td>Victoria Village</td>\n",
       "    </tr>\n",
       "    <tr>\n",
       "      <th>2</th>\n",
       "      <td>4</td>\n",
       "      <td>M5A</td>\n",
       "      <td>Downtown Toronto</td>\n",
       "      <td>Regent Park, Harbourfront</td>\n",
       "    </tr>\n",
       "    <tr>\n",
       "      <th>3</th>\n",
       "      <td>5</td>\n",
       "      <td>M6A</td>\n",
       "      <td>North York</td>\n",
       "      <td>Lawrence Manor, Lawrence Heights</td>\n",
       "    </tr>\n",
       "    <tr>\n",
       "      <th>4</th>\n",
       "      <td>6</td>\n",
       "      <td>M7A</td>\n",
       "      <td>Downtown Toronto</td>\n",
       "      <td>Queen's Park, Ontario Provincial Government</td>\n",
       "    </tr>\n",
       "  </tbody>\n",
       "</table>\n",
       "</div>"
      ],
      "text/plain": [
       "   index Postalcode           Borough  \\\n",
       "0      2        M3A        North York   \n",
       "1      3        M4A        North York   \n",
       "2      4        M5A  Downtown Toronto   \n",
       "3      5        M6A        North York   \n",
       "4      6        M7A  Downtown Toronto   \n",
       "\n",
       "                                  Neighborhood  \n",
       "0                                    Parkwoods  \n",
       "1                             Victoria Village  \n",
       "2                    Regent Park, Harbourfront  \n",
       "3             Lawrence Manor, Lawrence Heights  \n",
       "4  Queen's Park, Ontario Provincial Government  "
      ]
     },
     "execution_count": 13,
     "metadata": {},
     "output_type": "execute_result"
    }
   ],
   "source": [
    "# Removing rows with borough \"Not assigned\"\n",
    "\n",
    "df2=df[df['Borough'].str.contains(\"Not assigned\") == False].reset_index()\n",
    "df2.head()"
   ]
  },
  {
   "cell_type": "markdown",
   "metadata": {},
   "source": [
    "Grouping the data by Postalcode and borough"
   ]
  },
  {
   "cell_type": "code",
   "execution_count": 14,
   "metadata": {
    "scrolled": false
   },
   "outputs": [
    {
     "data": {
      "text/html": [
       "<div>\n",
       "<style scoped>\n",
       "    .dataframe tbody tr th:only-of-type {\n",
       "        vertical-align: middle;\n",
       "    }\n",
       "\n",
       "    .dataframe tbody tr th {\n",
       "        vertical-align: top;\n",
       "    }\n",
       "\n",
       "    .dataframe thead th {\n",
       "        text-align: right;\n",
       "    }\n",
       "</style>\n",
       "<table border=\"1\" class=\"dataframe\">\n",
       "  <thead>\n",
       "    <tr style=\"text-align: right;\">\n",
       "      <th></th>\n",
       "      <th>Postalcode</th>\n",
       "      <th>Borough</th>\n",
       "      <th>Neighborhood</th>\n",
       "    </tr>\n",
       "  </thead>\n",
       "  <tbody>\n",
       "    <tr>\n",
       "      <th>0</th>\n",
       "      <td>M1B</td>\n",
       "      <td>Scarborough</td>\n",
       "      <td>Malvern, Rouge</td>\n",
       "    </tr>\n",
       "    <tr>\n",
       "      <th>1</th>\n",
       "      <td>M1C</td>\n",
       "      <td>Scarborough</td>\n",
       "      <td>Rouge Hill, Port Union, Highland Creek</td>\n",
       "    </tr>\n",
       "    <tr>\n",
       "      <th>2</th>\n",
       "      <td>M1E</td>\n",
       "      <td>Scarborough</td>\n",
       "      <td>Guildwood, Morningside, West Hill</td>\n",
       "    </tr>\n",
       "    <tr>\n",
       "      <th>3</th>\n",
       "      <td>M1G</td>\n",
       "      <td>Scarborough</td>\n",
       "      <td>Woburn</td>\n",
       "    </tr>\n",
       "    <tr>\n",
       "      <th>4</th>\n",
       "      <td>M1H</td>\n",
       "      <td>Scarborough</td>\n",
       "      <td>Cedarbrae</td>\n",
       "    </tr>\n",
       "  </tbody>\n",
       "</table>\n",
       "</div>"
      ],
      "text/plain": [
       "  Postalcode      Borough                            Neighborhood\n",
       "0        M1B  Scarborough                          Malvern, Rouge\n",
       "1        M1C  Scarborough  Rouge Hill, Port Union, Highland Creek\n",
       "2        M1E  Scarborough       Guildwood, Morningside, West Hill\n",
       "3        M1G  Scarborough                                  Woburn\n",
       "4        M1H  Scarborough                               Cedarbrae"
      ]
     },
     "execution_count": 14,
     "metadata": {},
     "output_type": "execute_result"
    }
   ],
   "source": [
    "# Group them by postal code and borough\n",
    "df3= df2.groupby(['Postalcode', 'Borough'])['Neighborhood'].apply(', '.join).reset_index()\n",
    "df3.head()"
   ]
  },
  {
   "cell_type": "markdown",
   "metadata": {},
   "source": [
    "Using .shape to find the no. of rows of the dataframe."
   ]
  },
  {
   "cell_type": "code",
   "execution_count": 15,
   "metadata": {},
   "outputs": [
    {
     "data": {
      "text/plain": [
       "(103, 3)"
      ]
     },
     "execution_count": 15,
     "metadata": {},
     "output_type": "execute_result"
    }
   ],
   "source": [
    "df3.shape"
   ]
  },
  {
   "cell_type": "code",
   "execution_count": 16,
   "metadata": {},
   "outputs": [
    {
     "name": "stdout",
     "output_type": "stream",
     "text": [
      "The number of rows in the of the dataframe is 103.\n"
     ]
    }
   ],
   "source": [
    "print('The number of rows in the of the dataframe is 103.')"
   ]
  },
  {
   "cell_type": "code",
   "execution_count": 17,
   "metadata": {},
   "outputs": [
    {
     "name": "stdout",
     "output_type": "stream",
     "text": [
      "Successfully Saved!\n"
     ]
    }
   ],
   "source": [
    "#Save data as'Toronto1.csv'\n",
    "df3.to_csv('Toronto1.csv')\n",
    "print('Successfully Saved!')"
   ]
  },
  {
   "cell_type": "markdown",
   "metadata": {},
   "source": [
    "Segmenting and Clustering Neighborhoods in Toronto part 2"
   ]
  },
  {
   "cell_type": "markdown",
   "metadata": {},
   "source": [
    "Using the csv file provide from http://cocl.us/Geospatial_data instead of Geocoder.\n",
    "\n"
   ]
  },
  {
   "cell_type": "code",
   "execution_count": 18,
   "metadata": {
    "scrolled": true
   },
   "outputs": [
    {
     "data": {
      "text/html": [
       "<div>\n",
       "<style scoped>\n",
       "    .dataframe tbody tr th:only-of-type {\n",
       "        vertical-align: middle;\n",
       "    }\n",
       "\n",
       "    .dataframe tbody tr th {\n",
       "        vertical-align: top;\n",
       "    }\n",
       "\n",
       "    .dataframe thead th {\n",
       "        text-align: right;\n",
       "    }\n",
       "</style>\n",
       "<table border=\"1\" class=\"dataframe\">\n",
       "  <thead>\n",
       "    <tr style=\"text-align: right;\">\n",
       "      <th></th>\n",
       "      <th>Postal Code</th>\n",
       "      <th>Latitude</th>\n",
       "      <th>Longitude</th>\n",
       "    </tr>\n",
       "  </thead>\n",
       "  <tbody>\n",
       "    <tr>\n",
       "      <th>0</th>\n",
       "      <td>M1B</td>\n",
       "      <td>43.806686</td>\n",
       "      <td>-79.194353</td>\n",
       "    </tr>\n",
       "    <tr>\n",
       "      <th>1</th>\n",
       "      <td>M1C</td>\n",
       "      <td>43.784535</td>\n",
       "      <td>-79.160497</td>\n",
       "    </tr>\n",
       "    <tr>\n",
       "      <th>2</th>\n",
       "      <td>M1E</td>\n",
       "      <td>43.763573</td>\n",
       "      <td>-79.188711</td>\n",
       "    </tr>\n",
       "    <tr>\n",
       "      <th>3</th>\n",
       "      <td>M1G</td>\n",
       "      <td>43.770992</td>\n",
       "      <td>-79.216917</td>\n",
       "    </tr>\n",
       "    <tr>\n",
       "      <th>4</th>\n",
       "      <td>M1H</td>\n",
       "      <td>43.773136</td>\n",
       "      <td>-79.239476</td>\n",
       "    </tr>\n",
       "  </tbody>\n",
       "</table>\n",
       "</div>"
      ],
      "text/plain": [
       "  Postal Code   Latitude  Longitude\n",
       "0         M1B  43.806686 -79.194353\n",
       "1         M1C  43.784535 -79.160497\n",
       "2         M1E  43.763573 -79.188711\n",
       "3         M1G  43.770992 -79.216917\n",
       "4         M1H  43.773136 -79.239476"
      ]
     },
     "execution_count": 18,
     "metadata": {},
     "output_type": "execute_result"
    }
   ],
   "source": [
    "url='https://cocl.us/Geospatial_data/Geospatial_Coordinates.csv'\n",
    "df_latlon=pd.read_csv(url)\n",
    "df_latlon.head()"
   ]
  },
  {
   "cell_type": "markdown",
   "metadata": {},
   "source": [
    "To make the column similar to the \"PostalCode\" in the example without a space."
   ]
  },
  {
   "cell_type": "code",
   "execution_count": 38,
   "metadata": {},
   "outputs": [
    {
     "data": {
      "text/html": [
       "<div>\n",
       "<style scoped>\n",
       "    .dataframe tbody tr th:only-of-type {\n",
       "        vertical-align: middle;\n",
       "    }\n",
       "\n",
       "    .dataframe tbody tr th {\n",
       "        vertical-align: top;\n",
       "    }\n",
       "\n",
       "    .dataframe thead th {\n",
       "        text-align: right;\n",
       "    }\n",
       "</style>\n",
       "<table border=\"1\" class=\"dataframe\">\n",
       "  <thead>\n",
       "    <tr style=\"text-align: right;\">\n",
       "      <th></th>\n",
       "      <th>Postalcode</th>\n",
       "      <th>Latitude</th>\n",
       "      <th>Longitude</th>\n",
       "    </tr>\n",
       "  </thead>\n",
       "  <tbody>\n",
       "    <tr>\n",
       "      <th>0</th>\n",
       "      <td>M1B</td>\n",
       "      <td>43.806686</td>\n",
       "      <td>-79.194353</td>\n",
       "    </tr>\n",
       "    <tr>\n",
       "      <th>1</th>\n",
       "      <td>M1C</td>\n",
       "      <td>43.784535</td>\n",
       "      <td>-79.160497</td>\n",
       "    </tr>\n",
       "    <tr>\n",
       "      <th>2</th>\n",
       "      <td>M1E</td>\n",
       "      <td>43.763573</td>\n",
       "      <td>-79.188711</td>\n",
       "    </tr>\n",
       "    <tr>\n",
       "      <th>3</th>\n",
       "      <td>M1G</td>\n",
       "      <td>43.770992</td>\n",
       "      <td>-79.216917</td>\n",
       "    </tr>\n",
       "    <tr>\n",
       "      <th>4</th>\n",
       "      <td>M1H</td>\n",
       "      <td>43.773136</td>\n",
       "      <td>-79.239476</td>\n",
       "    </tr>\n",
       "  </tbody>\n",
       "</table>\n",
       "</div>"
      ],
      "text/plain": [
       "  Postalcode   Latitude  Longitude\n",
       "0        M1B  43.806686 -79.194353\n",
       "1        M1C  43.784535 -79.160497\n",
       "2        M1E  43.763573 -79.188711\n",
       "3        M1G  43.770992 -79.216917\n",
       "4        M1H  43.773136 -79.239476"
      ]
     },
     "execution_count": 38,
     "metadata": {},
     "output_type": "execute_result"
    }
   ],
   "source": [
    "df_latlon = df_latlon.rename(columns = {'PostalCode':'Postalcode'}) \n",
    "df_latlon.head()"
   ]
  },
  {
   "cell_type": "code",
   "execution_count": 20,
   "metadata": {},
   "outputs": [
    {
     "data": {
      "text/html": [
       "<div>\n",
       "<style scoped>\n",
       "    .dataframe tbody tr th:only-of-type {\n",
       "        vertical-align: middle;\n",
       "    }\n",
       "\n",
       "    .dataframe tbody tr th {\n",
       "        vertical-align: top;\n",
       "    }\n",
       "\n",
       "    .dataframe thead th {\n",
       "        text-align: right;\n",
       "    }\n",
       "</style>\n",
       "<table border=\"1\" class=\"dataframe\">\n",
       "  <thead>\n",
       "    <tr style=\"text-align: right;\">\n",
       "      <th></th>\n",
       "      <th>Unnamed: 0</th>\n",
       "      <th>Postalcode</th>\n",
       "      <th>Borough</th>\n",
       "      <th>Neighborhood</th>\n",
       "    </tr>\n",
       "  </thead>\n",
       "  <tbody>\n",
       "    <tr>\n",
       "      <th>0</th>\n",
       "      <td>0</td>\n",
       "      <td>M1B</td>\n",
       "      <td>Scarborough</td>\n",
       "      <td>Malvern, Rouge</td>\n",
       "    </tr>\n",
       "    <tr>\n",
       "      <th>1</th>\n",
       "      <td>1</td>\n",
       "      <td>M1C</td>\n",
       "      <td>Scarborough</td>\n",
       "      <td>Rouge Hill, Port Union, Highland Creek</td>\n",
       "    </tr>\n",
       "    <tr>\n",
       "      <th>2</th>\n",
       "      <td>2</td>\n",
       "      <td>M1E</td>\n",
       "      <td>Scarborough</td>\n",
       "      <td>Guildwood, Morningside, West Hill</td>\n",
       "    </tr>\n",
       "    <tr>\n",
       "      <th>3</th>\n",
       "      <td>3</td>\n",
       "      <td>M1G</td>\n",
       "      <td>Scarborough</td>\n",
       "      <td>Woburn</td>\n",
       "    </tr>\n",
       "    <tr>\n",
       "      <th>4</th>\n",
       "      <td>4</td>\n",
       "      <td>M1H</td>\n",
       "      <td>Scarborough</td>\n",
       "      <td>Cedarbrae</td>\n",
       "    </tr>\n",
       "  </tbody>\n",
       "</table>\n",
       "</div>"
      ],
      "text/plain": [
       "   Unnamed: 0 Postalcode      Borough                            Neighborhood\n",
       "0           0        M1B  Scarborough                          Malvern, Rouge\n",
       "1           1        M1C  Scarborough  Rouge Hill, Port Union, Highland Creek\n",
       "2           2        M1E  Scarborough       Guildwood, Morningside, West Hill\n",
       "3           3        M1G  Scarborough                                  Woburn\n",
       "4           4        M1H  Scarborough                               Cedarbrae"
      ]
     },
     "execution_count": 20,
     "metadata": {},
     "output_type": "execute_result"
    }
   ],
   "source": [
    "df3=pd.read_csv('Toronto1.csv')\n",
    "df3.head()"
   ]
  },
  {
   "cell_type": "code",
   "execution_count": 33,
   "metadata": {
    "scrolled": true
   },
   "outputs": [
    {
     "data": {
      "text/html": [
       "<div>\n",
       "<style scoped>\n",
       "    .dataframe tbody tr th:only-of-type {\n",
       "        vertical-align: middle;\n",
       "    }\n",
       "\n",
       "    .dataframe tbody tr th {\n",
       "        vertical-align: top;\n",
       "    }\n",
       "\n",
       "    .dataframe thead th {\n",
       "        text-align: right;\n",
       "    }\n",
       "</style>\n",
       "<table border=\"1\" class=\"dataframe\">\n",
       "  <thead>\n",
       "    <tr style=\"text-align: right;\">\n",
       "      <th></th>\n",
       "      <th>Postalcode</th>\n",
       "      <th>Borough</th>\n",
       "      <th>Neighborhood</th>\n",
       "    </tr>\n",
       "  </thead>\n",
       "  <tbody>\n",
       "    <tr>\n",
       "      <th>0</th>\n",
       "      <td>M1B</td>\n",
       "      <td>Scarborough</td>\n",
       "      <td>Malvern, Rouge</td>\n",
       "    </tr>\n",
       "    <tr>\n",
       "      <th>1</th>\n",
       "      <td>M1C</td>\n",
       "      <td>Scarborough</td>\n",
       "      <td>Rouge Hill, Port Union, Highland Creek</td>\n",
       "    </tr>\n",
       "    <tr>\n",
       "      <th>2</th>\n",
       "      <td>M1E</td>\n",
       "      <td>Scarborough</td>\n",
       "      <td>Guildwood, Morningside, West Hill</td>\n",
       "    </tr>\n",
       "    <tr>\n",
       "      <th>3</th>\n",
       "      <td>M1G</td>\n",
       "      <td>Scarborough</td>\n",
       "      <td>Woburn</td>\n",
       "    </tr>\n",
       "    <tr>\n",
       "      <th>4</th>\n",
       "      <td>M1H</td>\n",
       "      <td>Scarborough</td>\n",
       "      <td>Cedarbrae</td>\n",
       "    </tr>\n",
       "    <tr>\n",
       "      <th>5</th>\n",
       "      <td>M1J</td>\n",
       "      <td>Scarborough</td>\n",
       "      <td>Scarborough Village</td>\n",
       "    </tr>\n",
       "    <tr>\n",
       "      <th>6</th>\n",
       "      <td>M1K</td>\n",
       "      <td>Scarborough</td>\n",
       "      <td>Kennedy Park, Ionview, East Birchmount Park</td>\n",
       "    </tr>\n",
       "    <tr>\n",
       "      <th>7</th>\n",
       "      <td>M1L</td>\n",
       "      <td>Scarborough</td>\n",
       "      <td>Golden Mile, Clairlea, Oakridge</td>\n",
       "    </tr>\n",
       "    <tr>\n",
       "      <th>8</th>\n",
       "      <td>M1M</td>\n",
       "      <td>Scarborough</td>\n",
       "      <td>Cliffside, Cliffcrest, Scarborough Village West</td>\n",
       "    </tr>\n",
       "    <tr>\n",
       "      <th>9</th>\n",
       "      <td>M1N</td>\n",
       "      <td>Scarborough</td>\n",
       "      <td>Birch Cliff, Cliffside West</td>\n",
       "    </tr>\n",
       "    <tr>\n",
       "      <th>10</th>\n",
       "      <td>M1P</td>\n",
       "      <td>Scarborough</td>\n",
       "      <td>Dorset Park, Wexford Heights, Scarborough Town...</td>\n",
       "    </tr>\n",
       "    <tr>\n",
       "      <th>11</th>\n",
       "      <td>M1R</td>\n",
       "      <td>Scarborough</td>\n",
       "      <td>Wexford, Maryvale</td>\n",
       "    </tr>\n",
       "  </tbody>\n",
       "</table>\n",
       "</div>"
      ],
      "text/plain": [
       "   Postalcode      Borough                                       Neighborhood\n",
       "0         M1B  Scarborough                                     Malvern, Rouge\n",
       "1         M1C  Scarborough             Rouge Hill, Port Union, Highland Creek\n",
       "2         M1E  Scarborough                  Guildwood, Morningside, West Hill\n",
       "3         M1G  Scarborough                                             Woburn\n",
       "4         M1H  Scarborough                                          Cedarbrae\n",
       "5         M1J  Scarborough                                Scarborough Village\n",
       "6         M1K  Scarborough        Kennedy Park, Ionview, East Birchmount Park\n",
       "7         M1L  Scarborough                    Golden Mile, Clairlea, Oakridge\n",
       "8         M1M  Scarborough    Cliffside, Cliffcrest, Scarborough Village West\n",
       "9         M1N  Scarborough                        Birch Cliff, Cliffside West\n",
       "10        M1P  Scarborough  Dorset Park, Wexford Heights, Scarborough Town...\n",
       "11        M1R  Scarborough                                  Wexford, Maryvale"
      ]
     },
     "execution_count": 33,
     "metadata": {},
     "output_type": "execute_result"
    }
   ],
   "source": [
    "del df3['Unnamed: 0']\n",
    "df3.head(12)"
   ]
  },
  {
   "cell_type": "code",
   "execution_count": 39,
   "metadata": {},
   "outputs": [
    {
     "data": {
      "text/html": [
       "<div>\n",
       "<style scoped>\n",
       "    .dataframe tbody tr th:only-of-type {\n",
       "        vertical-align: middle;\n",
       "    }\n",
       "\n",
       "    .dataframe tbody tr th {\n",
       "        vertical-align: top;\n",
       "    }\n",
       "\n",
       "    .dataframe thead th {\n",
       "        text-align: right;\n",
       "    }\n",
       "</style>\n",
       "<table border=\"1\" class=\"dataframe\">\n",
       "  <thead>\n",
       "    <tr style=\"text-align: right;\">\n",
       "      <th></th>\n",
       "      <th>Postalcode</th>\n",
       "      <th>Borough</th>\n",
       "      <th>Neighborhood</th>\n",
       "      <th>Latitude</th>\n",
       "      <th>Longitude</th>\n",
       "    </tr>\n",
       "  </thead>\n",
       "  <tbody>\n",
       "    <tr>\n",
       "      <th>0</th>\n",
       "      <td>M1B</td>\n",
       "      <td>Scarborough</td>\n",
       "      <td>Malvern, Rouge</td>\n",
       "      <td>43.806686</td>\n",
       "      <td>-79.194353</td>\n",
       "    </tr>\n",
       "    <tr>\n",
       "      <th>1</th>\n",
       "      <td>M1C</td>\n",
       "      <td>Scarborough</td>\n",
       "      <td>Rouge Hill, Port Union, Highland Creek</td>\n",
       "      <td>43.784535</td>\n",
       "      <td>-79.160497</td>\n",
       "    </tr>\n",
       "    <tr>\n",
       "      <th>2</th>\n",
       "      <td>M1E</td>\n",
       "      <td>Scarborough</td>\n",
       "      <td>Guildwood, Morningside, West Hill</td>\n",
       "      <td>43.763573</td>\n",
       "      <td>-79.188711</td>\n",
       "    </tr>\n",
       "    <tr>\n",
       "      <th>3</th>\n",
       "      <td>M1G</td>\n",
       "      <td>Scarborough</td>\n",
       "      <td>Woburn</td>\n",
       "      <td>43.770992</td>\n",
       "      <td>-79.216917</td>\n",
       "    </tr>\n",
       "    <tr>\n",
       "      <th>4</th>\n",
       "      <td>M1H</td>\n",
       "      <td>Scarborough</td>\n",
       "      <td>Cedarbrae</td>\n",
       "      <td>43.773136</td>\n",
       "      <td>-79.239476</td>\n",
       "    </tr>\n",
       "  </tbody>\n",
       "</table>\n",
       "</div>"
      ],
      "text/plain": [
       "  Postalcode      Borough                            Neighborhood   Latitude  \\\n",
       "0        M1B  Scarborough                          Malvern, Rouge  43.806686   \n",
       "1        M1C  Scarborough  Rouge Hill, Port Union, Highland Creek  43.784535   \n",
       "2        M1E  Scarborough       Guildwood, Morningside, West Hill  43.763573   \n",
       "3        M1G  Scarborough                                  Woburn  43.770992   \n",
       "4        M1H  Scarborough                               Cedarbrae  43.773136   \n",
       "\n",
       "   Longitude  \n",
       "0 -79.194353  \n",
       "1 -79.160497  \n",
       "2 -79.188711  \n",
       "3 -79.216917  \n",
       "4 -79.239476  "
      ]
     },
     "execution_count": 39,
     "metadata": {},
     "output_type": "execute_result"
    }
   ],
   "source": [
    "df3 = pd.merge(df3, df_latlon, on = 'Postalcode')\n",
    "df3.head()"
   ]
  },
  {
   "cell_type": "code",
   "execution_count": 40,
   "metadata": {
    "scrolled": true
   },
   "outputs": [
    {
     "data": {
      "text/plain": [
       "(103, 5)"
      ]
     },
     "execution_count": 40,
     "metadata": {},
     "output_type": "execute_result"
    }
   ],
   "source": [
    "df3.shape"
   ]
  },
  {
   "cell_type": "markdown",
   "metadata": {},
   "source": [
    "Since the data in the dataframe are grouped by postal code and borough, they may look different from the picture but the data within should be the same, just in different order"
   ]
  },
  {
   "cell_type": "code",
   "execution_count": 41,
   "metadata": {},
   "outputs": [
    {
     "name": "stdout",
     "output_type": "stream",
     "text": [
      "Successfully Saved!\n"
     ]
    }
   ],
   "source": [
    "df3.to_csv('Toronto2.csv', index=False)\n",
    "print('Successfully Saved!')"
   ]
  },
  {
   "cell_type": "markdown",
   "metadata": {},
   "source": [
    "Segmenting and Clustering Neighborhoods in Toronto Part 3"
   ]
  },
  {
   "cell_type": "code",
   "execution_count": 42,
   "metadata": {},
   "outputs": [
    {
     "data": {
      "text/html": [
       "<div>\n",
       "<style scoped>\n",
       "    .dataframe tbody tr th:only-of-type {\n",
       "        vertical-align: middle;\n",
       "    }\n",
       "\n",
       "    .dataframe tbody tr th {\n",
       "        vertical-align: top;\n",
       "    }\n",
       "\n",
       "    .dataframe thead th {\n",
       "        text-align: right;\n",
       "    }\n",
       "</style>\n",
       "<table border=\"1\" class=\"dataframe\">\n",
       "  <thead>\n",
       "    <tr style=\"text-align: right;\">\n",
       "      <th></th>\n",
       "      <th>Postalcode</th>\n",
       "      <th>Borough</th>\n",
       "      <th>Neighborhood</th>\n",
       "      <th>Latitude</th>\n",
       "      <th>Longitude</th>\n",
       "    </tr>\n",
       "  </thead>\n",
       "  <tbody>\n",
       "    <tr>\n",
       "      <th>0</th>\n",
       "      <td>M1B</td>\n",
       "      <td>Scarborough</td>\n",
       "      <td>Malvern, Rouge</td>\n",
       "      <td>43.806686</td>\n",
       "      <td>-79.194353</td>\n",
       "    </tr>\n",
       "    <tr>\n",
       "      <th>1</th>\n",
       "      <td>M1C</td>\n",
       "      <td>Scarborough</td>\n",
       "      <td>Rouge Hill, Port Union, Highland Creek</td>\n",
       "      <td>43.784535</td>\n",
       "      <td>-79.160497</td>\n",
       "    </tr>\n",
       "    <tr>\n",
       "      <th>2</th>\n",
       "      <td>M1E</td>\n",
       "      <td>Scarborough</td>\n",
       "      <td>Guildwood, Morningside, West Hill</td>\n",
       "      <td>43.763573</td>\n",
       "      <td>-79.188711</td>\n",
       "    </tr>\n",
       "    <tr>\n",
       "      <th>3</th>\n",
       "      <td>M1G</td>\n",
       "      <td>Scarborough</td>\n",
       "      <td>Woburn</td>\n",
       "      <td>43.770992</td>\n",
       "      <td>-79.216917</td>\n",
       "    </tr>\n",
       "    <tr>\n",
       "      <th>4</th>\n",
       "      <td>M1H</td>\n",
       "      <td>Scarborough</td>\n",
       "      <td>Cedarbrae</td>\n",
       "      <td>43.773136</td>\n",
       "      <td>-79.239476</td>\n",
       "    </tr>\n",
       "  </tbody>\n",
       "</table>\n",
       "</div>"
      ],
      "text/plain": [
       "  Postalcode      Borough                            Neighborhood   Latitude  \\\n",
       "0        M1B  Scarborough                          Malvern, Rouge  43.806686   \n",
       "1        M1C  Scarborough  Rouge Hill, Port Union, Highland Creek  43.784535   \n",
       "2        M1E  Scarborough       Guildwood, Morningside, West Hill  43.763573   \n",
       "3        M1G  Scarborough                                  Woburn  43.770992   \n",
       "4        M1H  Scarborough                               Cedarbrae  43.773136   \n",
       "\n",
       "   Longitude  \n",
       "0 -79.194353  \n",
       "1 -79.160497  \n",
       "2 -79.188711  \n",
       "3 -79.216917  \n",
       "4 -79.239476  "
      ]
     },
     "execution_count": 42,
     "metadata": {},
     "output_type": "execute_result"
    }
   ],
   "source": [
    "df3=pd.read_csv('Toronto2.csv')\n",
    "df3.head()"
   ]
  },
  {
   "cell_type": "markdown",
   "metadata": {},
   "source": [
    "Only working with boroughs with the word \"Toronto\" in them."
   ]
  },
  {
   "cell_type": "code",
   "execution_count": 43,
   "metadata": {
    "scrolled": true
   },
   "outputs": [
    {
     "data": {
      "text/html": [
       "<div>\n",
       "<style scoped>\n",
       "    .dataframe tbody tr th:only-of-type {\n",
       "        vertical-align: middle;\n",
       "    }\n",
       "\n",
       "    .dataframe tbody tr th {\n",
       "        vertical-align: top;\n",
       "    }\n",
       "\n",
       "    .dataframe thead th {\n",
       "        text-align: right;\n",
       "    }\n",
       "</style>\n",
       "<table border=\"1\" class=\"dataframe\">\n",
       "  <thead>\n",
       "    <tr style=\"text-align: right;\">\n",
       "      <th></th>\n",
       "      <th>Postalcode</th>\n",
       "      <th>Borough</th>\n",
       "      <th>Neighborhood</th>\n",
       "      <th>Latitude</th>\n",
       "      <th>Longitude</th>\n",
       "    </tr>\n",
       "  </thead>\n",
       "  <tbody>\n",
       "    <tr>\n",
       "      <th>0</th>\n",
       "      <td>M4E</td>\n",
       "      <td>East Toronto</td>\n",
       "      <td>The Beaches</td>\n",
       "      <td>43.676357</td>\n",
       "      <td>-79.293031</td>\n",
       "    </tr>\n",
       "    <tr>\n",
       "      <th>1</th>\n",
       "      <td>M4K</td>\n",
       "      <td>East Toronto</td>\n",
       "      <td>The Danforth West, Riverdale</td>\n",
       "      <td>43.679557</td>\n",
       "      <td>-79.352188</td>\n",
       "    </tr>\n",
       "    <tr>\n",
       "      <th>2</th>\n",
       "      <td>M4L</td>\n",
       "      <td>East Toronto</td>\n",
       "      <td>India Bazaar, The Beaches West</td>\n",
       "      <td>43.668999</td>\n",
       "      <td>-79.315572</td>\n",
       "    </tr>\n",
       "    <tr>\n",
       "      <th>3</th>\n",
       "      <td>M4M</td>\n",
       "      <td>East Toronto</td>\n",
       "      <td>Studio District</td>\n",
       "      <td>43.659526</td>\n",
       "      <td>-79.340923</td>\n",
       "    </tr>\n",
       "    <tr>\n",
       "      <th>4</th>\n",
       "      <td>M4N</td>\n",
       "      <td>Central Toronto</td>\n",
       "      <td>Lawrence Park</td>\n",
       "      <td>43.728020</td>\n",
       "      <td>-79.388790</td>\n",
       "    </tr>\n",
       "  </tbody>\n",
       "</table>\n",
       "</div>"
      ],
      "text/plain": [
       "  Postalcode          Borough                    Neighborhood   Latitude  \\\n",
       "0        M4E     East Toronto                     The Beaches  43.676357   \n",
       "1        M4K     East Toronto    The Danforth West, Riverdale  43.679557   \n",
       "2        M4L     East Toronto  India Bazaar, The Beaches West  43.668999   \n",
       "3        M4M     East Toronto                 Studio District  43.659526   \n",
       "4        M4N  Central Toronto                   Lawrence Park  43.728020   \n",
       "\n",
       "   Longitude  \n",
       "0 -79.293031  \n",
       "1 -79.352188  \n",
       "2 -79.315572  \n",
       "3 -79.340923  \n",
       "4 -79.388790  "
      ]
     },
     "execution_count": 43,
     "metadata": {},
     "output_type": "execute_result"
    }
   ],
   "source": [
    "df4=df3[df3['Borough'].str.contains('Toronto')]\n",
    "df5=df4.reset_index(drop=True)\n",
    "df5.head()"
   ]
  },
  {
   "cell_type": "code",
   "execution_count": 44,
   "metadata": {
    "scrolled": true
   },
   "outputs": [
    {
     "data": {
      "text/plain": [
       "(39, 5)"
      ]
     },
     "execution_count": 44,
     "metadata": {},
     "output_type": "execute_result"
    }
   ],
   "source": [
    "df5.shape"
   ]
  },
  {
   "cell_type": "markdown",
   "metadata": {},
   "source": [
    "We have 39 data rows with the word Toronto under their Borough column."
   ]
  },
  {
   "cell_type": "markdown",
   "metadata": {},
   "source": [
    "Clustering the data using 'Borough' as a label."
   ]
  },
  {
   "cell_type": "code",
   "execution_count": 45,
   "metadata": {
    "scrolled": true
   },
   "outputs": [
    {
     "data": {
      "text/plain": [
       "Downtown Toronto    19\n",
       "Central Toronto      9\n",
       "West Toronto         6\n",
       "East Toronto         5\n",
       "Name: Borough, dtype: int64"
      ]
     },
     "execution_count": 45,
     "metadata": {},
     "output_type": "execute_result"
    }
   ],
   "source": [
    "df5['Borough'].value_counts()"
   ]
  },
  {
   "cell_type": "markdown",
   "metadata": {},
   "source": [
    "Labelling the Boroughs 1-4 according to Downtown, Central, West and East."
   ]
  },
  {
   "cell_type": "code",
   "execution_count": 46,
   "metadata": {},
   "outputs": [
    {
     "data": {
      "text/html": [
       "<div>\n",
       "<style scoped>\n",
       "    .dataframe tbody tr th:only-of-type {\n",
       "        vertical-align: middle;\n",
       "    }\n",
       "\n",
       "    .dataframe tbody tr th {\n",
       "        vertical-align: top;\n",
       "    }\n",
       "\n",
       "    .dataframe thead th {\n",
       "        text-align: right;\n",
       "    }\n",
       "</style>\n",
       "<table border=\"1\" class=\"dataframe\">\n",
       "  <thead>\n",
       "    <tr style=\"text-align: right;\">\n",
       "      <th></th>\n",
       "      <th>Postalcode</th>\n",
       "      <th>Borough</th>\n",
       "      <th>Neighborhood</th>\n",
       "      <th>Latitude</th>\n",
       "      <th>Longitude</th>\n",
       "      <th>Label</th>\n",
       "    </tr>\n",
       "  </thead>\n",
       "  <tbody>\n",
       "    <tr>\n",
       "      <th>0</th>\n",
       "      <td>M4E</td>\n",
       "      <td>East Toronto</td>\n",
       "      <td>The Beaches</td>\n",
       "      <td>43.676357</td>\n",
       "      <td>-79.293031</td>\n",
       "      <td>4</td>\n",
       "    </tr>\n",
       "    <tr>\n",
       "      <th>1</th>\n",
       "      <td>M4K</td>\n",
       "      <td>East Toronto</td>\n",
       "      <td>The Danforth West, Riverdale</td>\n",
       "      <td>43.679557</td>\n",
       "      <td>-79.352188</td>\n",
       "      <td>4</td>\n",
       "    </tr>\n",
       "    <tr>\n",
       "      <th>2</th>\n",
       "      <td>M4L</td>\n",
       "      <td>East Toronto</td>\n",
       "      <td>India Bazaar, The Beaches West</td>\n",
       "      <td>43.668999</td>\n",
       "      <td>-79.315572</td>\n",
       "      <td>4</td>\n",
       "    </tr>\n",
       "    <tr>\n",
       "      <th>3</th>\n",
       "      <td>M4M</td>\n",
       "      <td>East Toronto</td>\n",
       "      <td>Studio District</td>\n",
       "      <td>43.659526</td>\n",
       "      <td>-79.340923</td>\n",
       "      <td>4</td>\n",
       "    </tr>\n",
       "    <tr>\n",
       "      <th>4</th>\n",
       "      <td>M4N</td>\n",
       "      <td>Central Toronto</td>\n",
       "      <td>Lawrence Park</td>\n",
       "      <td>43.728020</td>\n",
       "      <td>-79.388790</td>\n",
       "      <td>2</td>\n",
       "    </tr>\n",
       "  </tbody>\n",
       "</table>\n",
       "</div>"
      ],
      "text/plain": [
       "  Postalcode          Borough                    Neighborhood   Latitude  \\\n",
       "0        M4E     East Toronto                     The Beaches  43.676357   \n",
       "1        M4K     East Toronto    The Danforth West, Riverdale  43.679557   \n",
       "2        M4L     East Toronto  India Bazaar, The Beaches West  43.668999   \n",
       "3        M4M     East Toronto                 Studio District  43.659526   \n",
       "4        M4N  Central Toronto                   Lawrence Park  43.728020   \n",
       "\n",
       "   Longitude  Label  \n",
       "0 -79.293031      4  \n",
       "1 -79.352188      4  \n",
       "2 -79.315572      4  \n",
       "3 -79.340923      4  \n",
       "4 -79.388790      2  "
      ]
     },
     "execution_count": 46,
     "metadata": {},
     "output_type": "execute_result"
    }
   ],
   "source": [
    "df5['Label']=df5['Borough'].replace(to_replace=['Downtown Toronto','Central Toronto','West Toronto','East Toronto'],value=[1,2,3,4],inplace=False)\n",
    "df5.head()"
   ]
  },
  {
   "cell_type": "markdown",
   "metadata": {},
   "source": [
    "Installing geopy, folium and Matplotlib for visualisation."
   ]
  },
  {
   "cell_type": "code",
   "execution_count": 50,
   "metadata": {
    "scrolled": true
   },
   "outputs": [
    {
     "name": "stdout",
     "output_type": "stream",
     "text": [
      "Collecting geopy\n",
      "  Downloading geopy-2.0.0-py3-none-any.whl (111 kB)\n",
      "\u001b[K     |████████████████████████████████| 111 kB 3.5 MB/s eta 0:00:01\n",
      "\u001b[?25hCollecting geographiclib<2,>=1.49\n",
      "  Downloading geographiclib-1.50-py3-none-any.whl (38 kB)\n",
      "Installing collected packages: geographiclib, geopy\n",
      "Successfully installed geographiclib-1.50 geopy-2.0.0\n"
     ]
    }
   ],
   "source": [
    "!pip install geopy"
   ]
  },
  {
   "cell_type": "code",
   "execution_count": 51,
   "metadata": {},
   "outputs": [],
   "source": [
    "import geopy"
   ]
  },
  {
   "cell_type": "code",
   "execution_count": 54,
   "metadata": {},
   "outputs": [],
   "source": [
    "from geopy.geocoders import Nominatim"
   ]
  },
  {
   "cell_type": "code",
   "execution_count": 53,
   "metadata": {},
   "outputs": [
    {
     "name": "stdout",
     "output_type": "stream",
     "text": [
      "Collecting folium\n",
      "  Downloading folium-0.11.0-py2.py3-none-any.whl (93 kB)\n",
      "\u001b[K     |████████████████████████████████| 93 kB 1.4 MB/s eta 0:00:011\n",
      "\u001b[?25hCollecting branca>=0.3.0\n",
      "  Downloading branca-0.4.1-py3-none-any.whl (24 kB)\n",
      "Requirement already satisfied: numpy in /srv/conda/envs/notebook/lib/python3.6/site-packages (from folium) (1.19.2)\n",
      "Requirement already satisfied: jinja2>=2.9 in /srv/conda/envs/notebook/lib/python3.6/site-packages (from folium) (2.11.2)\n",
      "Requirement already satisfied: requests in /srv/conda/envs/notebook/lib/python3.6/site-packages (from folium) (2.24.0)\n",
      "Requirement already satisfied: MarkupSafe>=0.23 in /srv/conda/envs/notebook/lib/python3.6/site-packages (from jinja2>=2.9->folium) (1.1.1)\n",
      "Requirement already satisfied: certifi>=2017.4.17 in /srv/conda/envs/notebook/lib/python3.6/site-packages (from requests->folium) (2020.6.20)\n",
      "Requirement already satisfied: idna<3,>=2.5 in /srv/conda/envs/notebook/lib/python3.6/site-packages (from requests->folium) (2.10)\n",
      "Requirement already satisfied: urllib3!=1.25.0,!=1.25.1,<1.26,>=1.21.1 in /srv/conda/envs/notebook/lib/python3.6/site-packages (from requests->folium) (1.25.10)\n",
      "Requirement already satisfied: chardet<4,>=3.0.2 in /srv/conda/envs/notebook/lib/python3.6/site-packages (from requests->folium) (3.0.4)\n",
      "Installing collected packages: branca, folium\n",
      "Successfully installed branca-0.4.1 folium-0.11.0\n"
     ]
    }
   ],
   "source": [
    "!pip install folium"
   ]
  },
  {
   "cell_type": "code",
   "execution_count": 55,
   "metadata": {},
   "outputs": [],
   "source": [
    "import folium"
   ]
  },
  {
   "cell_type": "code",
   "execution_count": 56,
   "metadata": {},
   "outputs": [],
   "source": [
    "import matplotlib.cm as cm\n",
    "import matplotlib.colors as colors"
   ]
  },
  {
   "cell_type": "markdown",
   "metadata": {},
   "source": [
    "Finding the coordinates of Toronto"
   ]
  },
  {
   "cell_type": "code",
   "execution_count": 57,
   "metadata": {},
   "outputs": [
    {
     "name": "stdout",
     "output_type": "stream",
     "text": [
      "The geograpical coordinate of Toronto are 43.6534817, -79.3839347.\n"
     ]
    }
   ],
   "source": [
    "address = 'Toronto'\n",
    "geolocator = Nominatim(user_agent=\"toronto_explorer\")\n",
    "location = geolocator.geocode(address)\n",
    "latitude = location.latitude\n",
    "longitude = location.longitude\n",
    "print(f'The geograpical coordinate of Toronto are {latitude}, {longitude}.')"
   ]
  },
  {
   "cell_type": "code",
   "execution_count": 58,
   "metadata": {},
   "outputs": [],
   "source": [
    "#for set the cluster number as label number\n",
    "kclusters=len(df5.Label.unique())\n",
    "\n",
    "# create map\n",
    "map_toronto = folium.Map(location=[latitude, longitude], zoom_start=11)\n",
    "\n",
    "# set color scheme for the clusters\n",
    "x = np.arange(kclusters)\n",
    "ys = [i + x + (i*x)**2 for i in range(kclusters)]\n",
    "colors_array = cm.rainbow(np.linspace(0, 1, len(ys)))\n",
    "rainbow = [colors.rgb2hex(i) for i in colors_array]\n",
    "\n",
    "# add markers to the map\n",
    "markers_colors = []\n",
    "for lat, lon, cluster in zip(df5['Latitude'], df5['Longitude'], df5['Label']):\n",
    "    label = folium.Popup(str(df5['Borough']) + ' Cluster ' + str(cluster), parse_html=True)\n",
    "    folium.CircleMarker(\n",
    "        [lat, lon],\n",
    "        radius=5,\n",
    "        popup=label,\n",
    "        color=rainbow[cluster-1],\n",
    "        fill=True,\n",
    "        fill_color=rainbow[cluster-1],\n",
    "        fill_opacity=0.7).add_to(map_toronto)"
   ]
  },
  {
   "cell_type": "code",
   "execution_count": 59,
   "metadata": {},
   "outputs": [
    {
     "data": {
      "text/html": [
       "<div style=\"width:100%;\"><div style=\"position:relative;width:100%;height:0;padding-bottom:60%;\"><span style=\"color:#565656\">Make this Notebook Trusted to load map: File -> Trust Notebook</span><iframe src=\"about:blank\" style=\"position:absolute;width:100%;height:100%;left:0;top:0;border:none !important;\" data-html=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 onload=\"this.contentDocument.open();this.contentDocument.write(atob(this.getAttribute('data-html')));this.contentDocument.close();\" allowfullscreen webkitallowfullscreen mozallowfullscreen></iframe></div></div>"
      ],
      "text/plain": [
       "<folium.folium.Map at 0x7f1000527f28>"
      ]
     },
     "execution_count": 59,
     "metadata": {},
     "output_type": "execute_result"
    }
   ],
   "source": [
    "map_toronto"
   ]
  },
  {
   "cell_type": "markdown",
   "metadata": {},
   "source": [
    "We can observe that the breakdown is as follows,\n",
    "\n",
    "Downtown Toronto    19 (Purple)\n",
    "\n",
    "Central Toronto      9 (Cyan)\n",
    "\n",
    "West Toronto         6 (Green)\n",
    "\n",
    "East Toronto         5 (Red)"
   ]
  },
  {
   "cell_type": "markdown",
   "metadata": {},
   "source": [
    "From the map generated above, we can also see the data are arranged in clusters, where downtown would be south, central would be north, west would be to the left and east would be to the right. \n",
    "\n",
    "And that Downtown Toronto is the most dense with the datapoints on the map being very close to one another within the cluster."
   ]
  }
 ],
 "metadata": {
  "kernelspec": {
   "display_name": "Python 3",
   "language": "python",
   "name": "python3"
  },
  "language_info": {
   "codemirror_mode": {
    "name": "ipython",
    "version": 3
   },
   "file_extension": ".py",
   "mimetype": "text/x-python",
   "name": "python",
   "nbconvert_exporter": "python",
   "pygments_lexer": "ipython3",
   "version": "3.6.11"
  }
 },
 "nbformat": 4,
 "nbformat_minor": 4
}
