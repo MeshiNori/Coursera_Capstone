{
 "cells": [
  {
   "cell_type": "markdown",
   "metadata": {},
   "source": [
    "## Data Usage"
   ]
  },
  {
   "cell_type": "markdown",
   "metadata": {},
   "source": [
    "Firstly we would use the list of Neighborhoods in New York City, https://en.wikipedia.org/wiki/Neighborhoods_in_New_York_City, where there is data on the community board, area, population census and population/km^2. It would make sense to set up a restaurant in a location where there is high population density as it would mean more potential customers.\n",
    "\n",
    "Using BeautifulSoup4 to scrape the text data from the Neighborhoods in New York City table, to form our own table with the data we need while excluding others.\n",
    "\n",
    "We would also be using the Foursquare API for their location data, namely for their Borough data and the most popular locations in those boroughs. Then filtering to find locations for restaurants and next, restaurants that would be serving similar cuisines (Pizza in this case)\n",
    "\n",
    "Next we would use Geopy to find out the latitude and longitude of the community boards above, as the list would not be able to locate \"Manhattan CB 1\", we will approximate it using the lat and long of the neighborhoods in Manhattan CB 1. Thereafter, we can begin to use the Foursquare API more in depth to find out what we want to know (Pizza places) along with their Rating, Tips, Price, Number of likes, Photos etc.\n",
    "\n"
   ]
  }
 ],
 "metadata": {
  "kernelspec": {
   "display_name": "Python 3",
   "language": "python",
   "name": "python3"
  },
  "language_info": {
   "codemirror_mode": {
    "name": "ipython",
    "version": 3
   },
   "file_extension": ".py",
   "mimetype": "text/x-python",
   "name": "python",
   "nbconvert_exporter": "python",
   "pygments_lexer": "ipython3",
   "version": "3.6.11"
  }
 },
 "nbformat": 4,
 "nbformat_minor": 4
}
