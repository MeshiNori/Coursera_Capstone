{
 "cells": [
  {
   "cell_type": "markdown",
   "metadata": {},
   "source": [
    "# Introduction/Business Problem"
   ]
  },
  {
   "cell_type": "markdown",
   "metadata": {},
   "source": [
    "The problem we are trying to solve is to help potential restaurant owners choose a location to set up their restaurant at. For the sake of this project we are narrowing it down to restaurants specialising in pizza. However, it can be adjusted for restaurants serving other cuisine by filtering the data accordingly.\n",
    "\n",
    "The background of the city chosen would be New York, which is a cultural mixing pot and thus, also one for cuisine. Due to the city's immigrant history, there is a wide range of cuisines that reside in New York. From Jewish immigrants, we have knishes, gefilte fish and pastrami. Italians bringing in pizza and pasta and making it a staple in New York. To Chinese and other Asian restaurants with fried rice and sesame chicken. Even Middle Eastern foods such as kebabs and falafels are common place in modern New York street food.\n",
    "\n",
    "Thus, New York is a prime location for potential business owners to consider starting a restaurant in, ranging from the humble street food to the haute cuisine. With the 2017 edition of the Michelin guide featuring 77 establishments in NYC with Michelin stars. Next the problem would be to decide where to open the restaurant at. Basing it on several selection criterion, the other restaurants that serve similar cuisine can be seen as competition they may wish to avoid, the population of the neighbourhood etc. We would be using the Foursquare location data to help us solve the problem of which location to choose. \n",
    "\n",
    "Hopefully this analysis would prove useful to potential business owners looking to foray into the restaurant business as it may be a tool for them to consider using. Since, it would allow them to make a decision based on data instead of randomly choosing a location which might not be optimal for them. Potentially, helping them save on rental costs in non-optimal locations and instead choose an optimal location to start based on data from the get-go."
   ]
  },
  {
   "cell_type": "code",
   "execution_count": null,
   "metadata": {},
   "outputs": [],
   "source": []
  }
 ],
 "metadata": {
  "kernelspec": {
   "display_name": "Python 3",
   "language": "python",
   "name": "python3"
  },
  "language_info": {
   "codemirror_mode": {
    "name": "ipython",
    "version": 3
   },
   "file_extension": ".py",
   "mimetype": "text/x-python",
   "name": "python",
   "nbconvert_exporter": "python",
   "pygments_lexer": "ipython3",
   "version": "3.6.11"
  }
 },
 "nbformat": 4,
 "nbformat_minor": 4
}
